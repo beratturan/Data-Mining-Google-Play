{
 "cells": [
  {
   "cell_type": "code",
   "execution_count": 1,
   "id": "julian-lawsuit",
   "metadata": {},
   "outputs": [],
   "source": [
    "import requests\n",
    "from bs4 import BeautifulSoup as bs\n",
    "from urllib.request import urlopen\n"
   ]
  },
  {
   "cell_type": "code",
   "execution_count": 3,
   "id": "growing-replica",
   "metadata": {},
   "outputs": [],
   "source": [
    "web = urlopen('https://play.google.com/store/apps?hl=tr')\n",
    "source = bs(web, 'html.parser')\n",
    "table0 = source.find(class_='LNKfBf').find_all('li')"
   ]
  },
  {
   "cell_type": "code",
   "execution_count": 4,
   "id": "elect-frame",
   "metadata": {},
   "outputs": [],
   "source": [
    "def find_categories(table):\n",
    "    \n",
    "    categories = []\n",
    "    for string in range(len(table)-1):\n",
    "        for word in table0[string+1].strings:\n",
    "            categories.append(word)\n",
    "            \n",
    "    return categories"
   ]
  },
  {
   "cell_type": "code",
   "execution_count": 5,
   "id": "missing-schedule",
   "metadata": {},
   "outputs": [],
   "source": [
    "def find_tag_from_category(table,category):\n",
    "    \n",
    "    for string in range(len(table0)-1):\n",
    "        for word in table0[string+1].strings:\n",
    "            if word == category:\n",
    "                tag = table0[string+1]\n",
    "                \n",
    "    return tag"
   ]
  },
  {
   "cell_type": "code",
   "execution_count": 27,
   "id": "vital-aaron",
   "metadata": {},
   "outputs": [
    {
     "name": "stdout",
     "output_type": "stream",
     "text": [
      "['Alışveriş', 'Araçlar', 'Arkadaşlık', 'Artırılmış gerçeklik', 'Daydream', 'Etkinlikler', 'Ev', 'Eğitim', 'Eğlence', 'Finans', 'Fotoğrafçılık', 'Güzellik', 'Haberler ve Dergiler', 'Haberleşme', 'Haritalar ve Navigasyon', 'Hava Durumu', 'Karikatür', 'Kitaplar ve Referans', 'Kitaplıklar ve Kısa Sunum', 'Kişiselleştirme', 'Müzik ve Ses', 'Otomobil ve Araçlar', 'Sanat ve Tasarım', 'Sağlık ve Fitness', 'Seyahat ve Yerel', 'Sosyal', 'Spor', 'Tıp', 'Verimlilik', 'Video Oynatıcılar ve Düzenleyiciler', 'Wear OS by Google', 'Yaşam Tarzı', 'Yeme İçme', 'Çocuk Yetiştirme', 'İş', 'Oyunlar', 'Aksiyon', 'Arcade', 'Bulmaca', 'Eğitici', 'Eğlencelik Bilgi Oyunları', 'Kağıt', 'Kelime', 'Klasik', 'Kumarhane Oyunları', 'Macera Oyunları', 'Masa Oyunları', 'Müzik', 'Rol Oyunu', 'Simülasyon', 'Spor', 'Strateji Oyunları', 'Yarış', 'Oyunlar', 'Aksiyon', 'Arcade', 'Bulmaca', 'Eğitici', 'Eğlencelik Bilgi Oyunları', 'Kağıt', 'Kelime', 'Klasik', 'Kumarhane Oyunları', 'Macera Oyunları', 'Masa Oyunları', 'Müzik', 'Rol Oyunu', 'Simülasyon', 'Spor', 'Strateji Oyunları', 'Yarış', 'Kids', '5 yaşa kadar', '6-8 yaş', '9-12 Yaş', 'Aksiyon ve Macera', 'Eğitim', 'Keşif ve Tasarlama', 'Müzik ve Video', 'Rol Yapma Oyunu', 'Zeka Oyunları', 'Kids', '5 yaşa kadar', '6-8 yaş', '9-12 Yaş', 'Aksiyon ve Macera', 'Eğitim', 'Keşif ve Tasarlama', 'Müzik ve Video', 'Rol Yapma Oyunu', 'Zeka Oyunları']\n",
      "Select a category : Alışveriş\n"
     ]
    }
   ],
   "source": [
    "categories = find_categories(table0)\n",
    "print(categories)\n",
    "category = input('Select a category : ')\n",
    "newUrl = 'https://play.google.com' + find_tag_from_category(table0, category).a.get('href')"
   ]
  },
  {
   "cell_type": "code",
   "execution_count": 28,
   "id": "infrared-collins",
   "metadata": {},
   "outputs": [
    {
     "data": {
      "text/plain": [
       "'https://play.google.com/store/apps/category/SHOPPING'"
      ]
     },
     "execution_count": 28,
     "metadata": {},
     "output_type": "execute_result"
    }
   ],
   "source": [
    "newUrl"
   ]
  },
  {
   "cell_type": "code",
   "execution_count": 30,
   "id": "explicit-animation",
   "metadata": {},
   "outputs": [],
   "source": [
    "def find_apps(newUrl):\n",
    "    app_Urls = []\n",
    "    return app_Urls"
   ]
  },
  {
   "cell_type": "code",
   "execution_count": 37,
   "id": "static-tsunami",
   "metadata": {},
   "outputs": [],
   "source": [
    "def get_app_contents(app_Url):\n",
    "    \n",
    "    web = urlopen(app_Url)\n",
    "    source = bs(web, 'html.parser')\n",
    "    table = source.find(class_='WpDbMd').find_all('meta')\n",
    "    \n",
    "    for i in range(len(table)):\n",
    "        if(table[i].get('itemprop') == 'price'):\n",
    "            index = i   \n",
    "            \n",
    "    content = table[index+1].get('content')\n",
    "    \n",
    "    return content"
   ]
  },
  {
   "cell_type": "code",
   "execution_count": 38,
   "id": "mechanical-scheme",
   "metadata": {},
   "outputs": [
    {
     "data": {
      "text/plain": [
       "\"TÜRKİYE’NİN LİDER ALIŞVERİŞ PLATFORMU HEPSİBURADA’DA 30 MİLYONDAN FAZLA ÜRÜN ÇEŞİDİ VE HARİKA FİYATLAR SENİ BEKLİYOR!\\n\\nHepsiburada’nın yaza özel fırsatlarında milyonlarca ürün çeşidi, süper fiyatlarla seni bekliyor! Üstelik, uygulamadan yapacağın alışverişlerinde sadece uygulamaya özel süper indirimler de sana sunuluyor. Uygulamaya gel, aradığın ürünleri sepetine ekle ve alışverişini tamamla!\\n\\nÜstelik Hepsiburada’dan yapacağın alışverişlerde süper ayrıcalıklar ve hizmetler seni bekliyor! İhtiyaçlarını ertelemek yerine online alışveriş kredisini keşfet. 750 – 25.000 TL arasındaki sepet tutarlarında 60 aya varan vade seçenekleri seni bekliyor!\\n\\nYapacağın alışverişlerde kredi kartı limitin yetmezse Çoklu Kredi Kartı ile yöntemiyle ödeme yapabilirsin. Birden fazla kartla tek seferde ödeme yaparak alışverişlerini tamamlama ayrıcalığı da Hepsiburada’da!\\n\\nDizüstü bilgisayarlardan masaüstü bilgisayarlara, telefonlardan tabletlere alışveriş kredisiyle elektronik ürünlerine rahatça sahip olabilirsin. Yeni bilgisayarında en yeni oyunları rahatça oynayıp, yeni cep telefonunla harika fotoğraflar ve videolar çekebilirsin. \\n\\nOyunculara özel oyun bilgisayarlarını, mobil oyunculara özel oyun telefonlarını da keşfet! Hepsi uygulamamızda seni bekliyor. Haydi sen de son teknolojiyi yakala!\\n\\n\\nBebekli hayatı kolaylaştıran, annelerin en çok tercih ettiği, bebeklere ve çocuklara özel ürünlerde de harika indirimler olduğunu unutma! Oyuncaklar, mamalar, çocuk ve bebek giyim ürünleriyle çok daha fazlası uygulamamız ile parmaklarının ucunda.\\n\\nModuna göre moda da burada! En trend ayakkabılar, en moda giyim ürünleri, saatlerden takılara en trend moda aksesuarları, favori moda markalarının en şık ürünleri, kadınlara ve erkeklere özel koleksiyonlar süper fırsatlarla uygulamamızda.\\n\\nMakyaj ürünleri, cilt ve saç bakım ürünleri, göz kalemleri, farlar, parfümler, şampuanlar, bakım kremleri, deodorantlar, nemlendirici kremler uygun fiyatlarla Hepsiburada’da.\\n\\n\\nCep telefonu, akıllı saat, TV ünitesi, TV, bebek arabası, bebek bezi, spor ayakkabı, kitaplık, kulaklık, bisiklet ve daha niceleri avantajlı fiyatlarla Hepsiburada’da! Uygulamaya özel indirimlerle teknolojiden modaya, süpermarketten anne ve bebek ürünlerine kadar binlerce kategori arasından bütçene uygun ürünleri keşfetmek için hemen Hepsiburada’yı telefonuna indir, doğru alışverişin keyfini çıkar!\\n\\n\\nDÜNYACA ÜNLÜ MARKALARIN, HER GÜN YENİLENEN ÜRÜNLERİ SENİ BEKLİYOR\\n\\nKoton, Defacto, LC Waikiki, Farmasi, Nike, Adidas, Samsung, Karaca, Arçelik, Apple, Barbie, Madame Coco, Avon, Monster, Vestel, Pierre Cardin, Bosch, Philips, Puma, Paşabahçe, Columbia, The North Face, Siemens, Lenovo, LG, Asus, Kütahya Porselen, Lumberjack, Casper, Sony, Kinetix, MSI, Jack Wolfskin, Korkmaz, Arzum, Prima, Dark, Tefal, Emsan, TP-Link, HP dilediğini seç, alışverişe başla!\\n\\n• RENKLİ VE HEYECAN VEREN YENİ TASARIM\\n• VİTRİNLER ARASINDA GEÇİŞ YAPARAK KEŞFE DAYALI ALIŞVERİŞ DENEYİMİ\\n• HEPSİEXPRESS İLE SÜPERMARKET ALIŞVERİŞİ\\n• HER GÜN YENİLENEN SANA ÖZEL KAMPANYALARI KEŞFET\\n• HEDİYE ÇEKLERİ KAZAN, ALIŞVERİŞLERİNDE KULLAN\\n• SESLE, GÖRSELLE YA DA BARKODLA ARAMA YAP\\n• BİLGİLERİNİ KAYDET, TEK TIKLA GÜVENLİ ALIŞVERİŞİN KEYFİNİ YAŞA\\n• ÜYE OLMAYA VAKTİN YOK MU? ÜYE OLMADAN ALIŞVERİŞE DEVAM ET\\n• İSTER KARTLA İSTER HAVALE İLE ÖDE\\n• LİMİTİN YETMEZSE 2 KREDİ KARTINI BİRLEŞTİREREK ÖDE\\n• HAYALLERİNİ ERTELEME, ALIŞVERİŞ KREDİSİ YANINDA\\n• BUGÜN TESLİMAT İKONLU ÜRÜNLER AYNI GÜN KAPINDA\\n• EVDE YOKSAN SİPARİŞİNİ TESLİMAT NOKTALARINDAN TESLİM AL\\n• KOLAY SİPARİŞ TAKİBİ İLE KARGO SÜREÇLERİNİ İZLE\\n• BEĞENMEDİYSEN KOŞULSUZ İADE ET\\n• BİR ŞEYLER TERS Mİ GİTTİ? TEK TIKLA MÜŞTERİ TEMSİLCİLERİMİZE ULAŞ\\n\\nDAHA FAZLASI İÇİN FİKİRLERİNİ PAYLAŞ\\n\\n\\nGeri bildirimlerin bizim için çok ama çok önemli… Uygulama içerisindeki “Hesabım - Uygulama İçin Geri Bildirim Yapın” bölümünden dilediğin gibi düşünceleri bizimle paylaş. Gelişmemize yardımcı ol.Google Play'den de yazdığın yorumları takip ettiğimizi unutma! İndirdikten sonra uygulamamızı puanlayabilirsin.\\nTURKEY'S LEADING SHOPPING PLATFORM HEPSİBURADA 30 MILLION MORE THAN YOU WAITING FOR PRODUCT RANGE AND GREAT PRICES!\\n\\nMillions of product varieties await you at super prices at Hepsiburada's special summer deals! Moreover, when you shop from the application, only super discounts specific to the application are offered to you. Come to the application, add the products you are looking for to your cart and complete your shopping!\\n\\nMoreover, super privileges and services are waiting for you when shopping from Hepsiburada! Instead of delaying your needs, discover online shopping credits. Maturity options of up to 60 months are waiting for you with basket amounts between 750 - 25.000 TL!\\n\\nIf your credit card limit is insufficient for your purchases, you can pay with the Multiple Credit Card method. Hepsiburada also has the privilege of completing your shopping by paying at once with more than one card!\\n\\nYou can easily own electronic products from laptops to desktop computers, from phones to tablets with shopping credit. You can play the latest games comfortably on your new computer and take great photos and videos with your new mobile phone.\\n\\nDiscover gaming computers for gamers and gaming phones for mobile gamers! All of them are waiting for you in our application. Come on, catch the latest technology!\\n\\n\\nDo not forget that there are also great discounts on products that make life easier with babies, the most preferred by mothers, and special products for babies and children! Toys, baby food, children and baby clothing products and much more are at your fingertips with our application.\\n\\nAccording to the mood, the fashion is here too! The most trendy shoes, the most fashionable clothing products, the most trendy fashion accessories from watches to jewelry, the most stylish products of your favorite fashion brands, and special collections for men and women are in our application with super opportunities.\\n\\nMakeup products, skin and hair care products, eye pencils, eyeshadows, perfumes, shampoos, care creams, deodorants, moisturizing creams are available at Hepsiburada at affordable prices.\\n\\n\\nMobile phones, smart watches, TV units, TVs, strollers, diapers, sneakers, bookshelves, headphones, bicycles and more are available at Hepsiburada with advantageous prices! Download Hepsiburada right now to discover products that fit your budget among thousands of categories from technology to fashion, from supermarket to mother and baby products with application-specific discounts and enjoy the right shopping!\\n\\n\\nTHE PRODUCTS OF WORLD-FAMOUS BRANDS, RENEWED EVERY DAY, ARE WAITING YOU\\n\\nKoton, Defacto, LC Waikiki, Farmasi, Nike, Adidas, Samsung, Karaca, Arçelik, Apple, Barbie, Madame Coco, Avon, Monster, Vestel, Pierre Cardin, Bosch, Philips, Puma, Paşabahçe, Columbia, The North Face, Siemens , Lenovo, LG, Asus, Kütahya Porselen, Lumberjack, Casper, Sony, Kinetix, MSI, Jack Wolfskin, Korkmaz, Arzum, Prima, Dark, Tefal, Emsan, TP-Link, HP choose whatever you want, start shopping!\\n\\nCOLORFUL AND EXCITING NEW DESIGN\\n• EXPLORATION-BASED SHOPPING EXPERIENCE BY SWITCHING BETWEEN SHOWCASES\\n• SUPERMARKET SHOPPING WITH HEPSIEXPRESS\\n• EXPLORE YOUR SPECIAL OFFERS, RENEWED EVERY DAY\\n• GET GIFT CHECKS, USE IT IN SHOPPING\\n• SEARCH BY VOICE, VISUAL OR BARCODE\\n• SAVE YOUR INFORMATION, ENJOY SECURE SHOPPING WITH ONE CLICK\\n• NO TIME TO BE A MEMBER? CONTINUE SHOPPING WITHOUT A MEMBER\\n• WISH BY CARD OR PAY BY TRANSFER\\n• IF THE LIMIT IS NOT ENOUGH, PAY BY COMBINING 2 CREDIT CARDS\\n• DELAYING YOUR DREAMS, ON YOUR SHOPPING CREDIT\\n• TODAY DELIVERY ICONIC PRODUCTS ON THE SAME DAY\\n• DELIVER YOUR ORDER FROM THE DELIVERY POINTS IF YOU ARE NOT AT HOME\\n• FOLLOW CARGO PROCESSES WITH EASY ORDER TRACKING\\n• RETURN UNCONDITIONED IF YOU DISLIKE\\n• DID SOMETHING REVERSE? REACH OUR CUSTOMER REPRESENTATIVES WITH ONE CLICK\\n\\nSHARE YOUR IDEAS FOR MORE\\n\\n\\nYour feedback is very, very important to us… Share your thoughts with us as you wish in the “My Account - Give Feedback for the Application” section in the application. Help us improve. Don't forget that we follow your comments on Google Play! After downloading, you can rate our application.\\n\""
      ]
     },
     "execution_count": 38,
     "metadata": {},
     "output_type": "execute_result"
    }
   ],
   "source": [
    "get_app_contents('https://play.google.com/store/apps/details?id=com.pozitron.hepsiburada')"
   ]
  },
  {
   "cell_type": "code",
   "execution_count": null,
   "id": "historical-wyoming",
   "metadata": {},
   "outputs": [],
   "source": []
  }
 ],
 "metadata": {
  "kernelspec": {
   "display_name": "Python 3",
   "language": "python",
   "name": "python3"
  },
  "language_info": {
   "codemirror_mode": {
    "name": "ipython",
    "version": 3
   },
   "file_extension": ".py",
   "mimetype": "text/x-python",
   "name": "python",
   "nbconvert_exporter": "python",
   "pygments_lexer": "ipython3",
   "version": "3.8.0"
  }
 },
 "nbformat": 4,
 "nbformat_minor": 5
}
