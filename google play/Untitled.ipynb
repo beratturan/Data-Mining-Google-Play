{
 "cells": [
  {
   "cell_type": "code",
   "execution_count": 1,
   "id": "julian-lawsuit",
   "metadata": {},
   "outputs": [],
   "source": [
    "import requests\n",
    "from bs4 import BeautifulSoup as bs\n",
    "from urllib.request import urlopen\n"
   ]
  },
  {
   "cell_type": "code",
   "execution_count": 3,
   "id": "criminal-shooting",
   "metadata": {},
   "outputs": [],
   "source": [
    "web = urlopen('https://play.google.com/store/apps?hl=tr')\n",
    "source = bs(web, 'html.parser')\n",
    "table0 = source.find(class_='LNKfBf').find_all('li')"
   ]
  },
  {
   "cell_type": "code",
   "execution_count": 4,
   "id": "returning-germany",
   "metadata": {},
   "outputs": [],
   "source": [
    "def find_categories(table):\n",
    "    \n",
    "    categories = []\n",
    "    for string in range(len(table)-1):\n",
    "        for word in table0[string+1].strings:\n",
    "            categories.append(word)\n",
    "            \n",
    "    return categories"
   ]
  },
  {
   "cell_type": "code",
   "execution_count": 5,
   "id": "great-coaching",
   "metadata": {},
   "outputs": [],
   "source": [
    "def find_tag_from_category(table,category):\n",
    "    \n",
    "    for string in range(len(table0)-1):\n",
    "        for word in table0[string+1].strings:\n",
    "            if word == category:\n",
    "                tag = table0[string+1]\n",
    "                \n",
    "    return tag"
   ]
  },
  {
   "cell_type": "code",
   "execution_count": 17,
   "id": "vital-aaron",
   "metadata": {},
   "outputs": [
    {
     "name": "stdout",
     "output_type": "stream",
     "text": [
      "['Alışveriş', 'Araçlar', 'Arkadaşlık', 'Artırılmış gerçeklik', 'Daydream', 'Etkinlikler', 'Ev', 'Eğitim', 'Eğlence', 'Finans', 'Fotoğrafçılık', 'Güzellik', 'Haberler ve Dergiler', 'Haberleşme', 'Haritalar ve Navigasyon', 'Hava Durumu', 'Karikatür', 'Kitaplar ve Referans', 'Kitaplıklar ve Kısa Sunum', 'Kişiselleştirme', 'Müzik ve Ses', 'Otomobil ve Araçlar', 'Sanat ve Tasarım', 'Sağlık ve Fitness', 'Seyahat ve Yerel', 'Sosyal', 'Spor', 'Tıp', 'Verimlilik', 'Video Oynatıcılar ve Düzenleyiciler', 'Wear OS by Google', 'Yaşam Tarzı', 'Yeme İçme', 'Çocuk Yetiştirme', 'İş', 'Oyunlar', 'Aksiyon', 'Arcade', 'Bulmaca', 'Eğitici', 'Eğlencelik Bilgi Oyunları', 'Kağıt', 'Kelime', 'Klasik', 'Kumarhane Oyunları', 'Macera Oyunları', 'Masa Oyunları', 'Müzik', 'Rol Oyunu', 'Simülasyon', 'Spor', 'Strateji Oyunları', 'Yarış', 'Oyunlar', 'Aksiyon', 'Arcade', 'Bulmaca', 'Eğitici', 'Eğlencelik Bilgi Oyunları', 'Kağıt', 'Kelime', 'Klasik', 'Kumarhane Oyunları', 'Macera Oyunları', 'Masa Oyunları', 'Müzik', 'Rol Oyunu', 'Simülasyon', 'Spor', 'Strateji Oyunları', 'Yarış', 'Kids', '5 yaşa kadar', '6-8 yaş', '9-12 Yaş', 'Aksiyon ve Macera', 'Eğitim', 'Keşif ve Tasarlama', 'Müzik ve Video', 'Rol Yapma Oyunu', 'Zeka Oyunları', 'Kids', '5 yaşa kadar', '6-8 yaş', '9-12 Yaş', 'Aksiyon ve Macera', 'Eğitim', 'Keşif ve Tasarlama', 'Müzik ve Video', 'Rol Yapma Oyunu', 'Zeka Oyunları']\n",
      "Select a category : Kids\n"
     ]
    },
    {
     "data": {
      "text/plain": [
       "<li class=\"GL7Kod\"><a class=\"zyz7Fb\" href=\"/store/apps/category/FAMILY\" title=\"Kids\">Kids</a></li>"
      ]
     },
     "execution_count": 17,
     "metadata": {},
     "output_type": "execute_result"
    }
   ],
   "source": [
    "categories = find_categories(table0)\n",
    "print(categories)\n",
    "category = input('Select a category : ')\n",
    "find_tag_from_category(table0, category)"
   ]
  },
  {
   "cell_type": "code",
   "execution_count": null,
   "id": "infrared-collins",
   "metadata": {},
   "outputs": [],
   "source": [
    "\"\"\"\n",
    "table = source.find(class_='WpDbMd').find_all('meta')\n",
    "for i in range(len(table)):\n",
    "    if(table[i].get('itemprop') == 'price'):\n",
    "        index = i\n",
    "        \n",
    "content = table[index+1].get('content')\n",
    "\"\"\"\n",
    "\n",
    "  "
   ]
  },
  {
   "cell_type": "code",
   "execution_count": null,
   "id": "unable-basics",
   "metadata": {},
   "outputs": [],
   "source": []
  }
 ],
 "metadata": {
  "kernelspec": {
   "display_name": "Python 3",
   "language": "python",
   "name": "python3"
  },
  "language_info": {
   "codemirror_mode": {
    "name": "ipython",
    "version": 3
   },
   "file_extension": ".py",
   "mimetype": "text/x-python",
   "name": "python",
   "nbconvert_exporter": "python",
   "pygments_lexer": "ipython3",
   "version": "3.8.0"
  }
 },
 "nbformat": 4,
 "nbformat_minor": 5
}
