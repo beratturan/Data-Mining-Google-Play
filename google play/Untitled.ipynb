{
 "cells": [
  {
   "cell_type": "code",
   "execution_count": 1,
   "id": "julian-lawsuit",
   "metadata": {},
   "outputs": [],
   "source": [
    "import requests\n",
    "from bs4 import BeautifulSoup as bs\n",
    "from urllib.request import urlopen\n"
   ]
  },
  {
   "cell_type": "code",
   "execution_count": 2,
   "id": "growing-replica",
   "metadata": {},
   "outputs": [],
   "source": [
    "web = urlopen('https://play.google.com/store/apps')\n",
    "source = bs(web, 'html.parser')\n",
    "table0 = source.find(class_='LNKfBf').find_all('li')"
   ]
  },
  {
   "cell_type": "code",
   "execution_count": 3,
   "id": "elect-frame",
   "metadata": {},
   "outputs": [],
   "source": [
    "def find_categories(table):\n",
    "    \n",
    "    categories = []\n",
    "    for string in range(len(table)-1):\n",
    "        for word in table0[string+1].strings:\n",
    "            categories.append(word)\n",
    "            \n",
    "    return categories"
   ]
  },
  {
   "cell_type": "code",
   "execution_count": 4,
   "id": "missing-schedule",
   "metadata": {},
   "outputs": [],
   "source": [
    "def find_tag_from_category(table,category):\n",
    "    \n",
    "    for string in range(len(table0)-1):\n",
    "        for word in table0[string+1].strings:\n",
    "            if word == category:\n",
    "                tag = table0[string+1]\n",
    "                \n",
    "    return tag"
   ]
  },
  {
   "cell_type": "code",
   "execution_count": 5,
   "id": "vital-aaron",
   "metadata": {},
   "outputs": [
    {
     "name": "stdout",
     "output_type": "stream",
     "text": [
      "['Art & Design', 'Augmented reality', 'Auto & Vehicles', 'Beauty', 'Books & Reference', 'Business', 'Comics', 'Communication', 'Dating', 'Daydream', 'Education', 'Entertainment', 'Events', 'Finance', 'Food & Drink', 'Health & Fitness', 'House & Home', 'Libraries & Demo', 'Lifestyle', 'Maps & Navigation', 'Medical', 'Music & Audio', 'News & Magazines', 'Parenting', 'Personalization', 'Photography', 'Productivity', 'Shopping', 'Social', 'Sports', 'Tools', 'Travel & Local', 'Video Players & Editors', 'Wear OS by Google', 'Weather', 'Games', 'Action', 'Adventure', 'Arcade', 'Board', 'Card', 'Casino', 'Casual', 'Educational', 'Music', 'Puzzle', 'Racing', 'Role Playing', 'Simulation', 'Sports', 'Strategy', 'Trivia', 'Word', 'Games', 'Action', 'Adventure', 'Arcade', 'Board', 'Card', 'Casino', 'Casual', 'Educational', 'Music', 'Puzzle', 'Racing', 'Role Playing', 'Simulation', 'Sports', 'Strategy', 'Trivia', 'Word', 'Kids', 'Ages up to 5', 'Ages 6-8', 'Ages 9-12', 'Action & Adventure', 'Brain Games', 'Creativity', 'Education', 'Music & Video', 'Pretend Play', 'Kids', 'Ages up to 5', 'Ages 6-8', 'Ages 9-12', 'Action & Adventure', 'Brain Games', 'Creativity', 'Education', 'Music & Video', 'Pretend Play']\n",
      "Select a category : Racing\n"
     ]
    }
   ],
   "source": [
    "categories = find_categories(table0)\n",
    "print(categories)\n",
    "category = input('Select a category : ')\n",
    "newUrl = 'https://play.google.com' + find_tag_from_category(table0, category).a.get('href')"
   ]
  },
  {
   "cell_type": "code",
   "execution_count": 6,
   "id": "infrared-collins",
   "metadata": {},
   "outputs": [
    {
     "data": {
      "text/plain": [
       "'https://play.google.com/store/apps/category/GAME_RACING'"
      ]
     },
     "execution_count": 6,
     "metadata": {},
     "output_type": "execute_result"
    }
   ],
   "source": [
    "newUrl"
   ]
  },
  {
   "cell_type": "code",
   "execution_count": 7,
   "id": "explicit-animation",
   "metadata": {},
   "outputs": [],
   "source": [
    "def find_apps(newUrl):\n",
    "    app_Urls = []\n",
    "    web = urlopen(newUrl)\n",
    "    source = bs(web, 'html.parser')\n",
    "    table = source.find_all(\"div\", {\"class\": \"WHE7ib mpg5gc\"})\n",
    "    for i in range(len(table)):\n",
    "        app_Urls.append('https://play.google.com' + table[i].a.get('href'))\n",
    "        \n",
    "    return app_Urls\n",
    "\n"
   ]
  },
  {
   "cell_type": "code",
   "execution_count": 8,
   "id": "static-tsunami",
   "metadata": {},
   "outputs": [],
   "source": [
    "def get_app_content(app_Url):\n",
    "    \n",
    "    web = urlopen(app_Url)\n",
    "    source = bs(web, 'html.parser')\n",
    "    table = source.find(class_='WpDbMd').find_all('meta')\n",
    "    \n",
    "    for i in range(len(table)):\n",
    "        if(table[i].get('itemprop') == 'price'):\n",
    "            index = i   \n",
    "            \n",
    "    content = table[index+1].get('content')\n",
    "    \n",
    "    return content"
   ]
  },
  {
   "cell_type": "code",
   "execution_count": 9,
   "id": "mechanical-scheme",
   "metadata": {},
   "outputs": [
    {
     "data": {
      "text/plain": [
       "79"
      ]
     },
     "execution_count": 9,
     "metadata": {},
     "output_type": "execute_result"
    }
   ],
   "source": [
    "app_Urls = find_apps(newUrl)\n",
    "len(app_Urls)"
   ]
  },
  {
   "cell_type": "code",
   "execution_count": 10,
   "id": "historical-wyoming",
   "metadata": {},
   "outputs": [],
   "source": [
    "app_contents = []\n",
    "for i in range(30):\n",
    "    app_contents.append(get_app_content(app_Urls[i]))"
   ]
  },
  {
   "cell_type": "code",
   "execution_count": 20,
   "id": "choice-statement",
   "metadata": {},
   "outputs": [],
   "source": [
    "import nltk \n",
    "from nltk.stem import PorterStemmer \n",
    "from nltk.tokenize import RegexpTokenizer\n",
    "from langdetect import detect\n",
    "stopwords = set(nltk.corpus.stopwords.words('english'))"
   ]
  },
  {
   "cell_type": "code",
   "execution_count": 22,
   "id": "capital-luther",
   "metadata": {},
   "outputs": [],
   "source": [
    "contentsArr = []\n",
    "ps = PorterStemmer()    \n",
    "tokenizer = RegexpTokenizer(r'\\w+')\n",
    "for i in range(len(app_contents)):\n",
    "    doc = [ps.stem(word) for word in list(tokenizer.tokenize(app_contents[i]))] \n",
    "    contentsArr.append(doc)\n",
    "    "
   ]
  },
  {
   "cell_type": "code",
   "execution_count": 34,
   "id": "random-berlin",
   "metadata": {},
   "outputs": [],
   "source": [
    "def remove_stopwords(contentsArr):\n",
    "    contents = []\n",
    "    for i in range(len(contentsArr)):\n",
    "        filtered_sentence = [w for w in contentsArr[i] if not w in stopwords]\n",
    "        contents.append(filtered_sentence)\n",
    "    return contents"
   ]
  },
  {
   "cell_type": "code",
   "execution_count": 35,
   "id": "unauthorized-strengthening",
   "metadata": {
    "scrolled": true
   },
   "outputs": [],
   "source": [
    "##print(contentsArr[0])  \n",
    "contents = remove_stopwords(contentsArr)\n",
    "##print(contentsArr[0])  "
   ]
  },
  {
   "cell_type": "code",
   "execution_count": 36,
   "id": "mobile-armstrong",
   "metadata": {},
   "outputs": [],
   "source": [
    "from collections import Counter\n",
    "pairsArr = []\n",
    "for i in range(len(contentsArr)):\n",
    "    c = Counter(contentsArr[i])\n",
    "    pairs = list(c.items())\n",
    "    pairs_filtered = sorted(pairs, key=lambda x: -x[1])[:15] \n",
    "    pairsArr.append(pairs_filtered)"
   ]
  },
  {
   "cell_type": "code",
   "execution_count": 37,
   "id": "monthly-diary",
   "metadata": {},
   "outputs": [],
   "source": [
    "Content = []\n",
    "for i in range(len(pairsArr)):\n",
    "    for j in range(15):\n",
    "       Content.append(pairsArr[i][j][0]) "
   ]
  },
  {
   "cell_type": "code",
   "execution_count": 38,
   "id": "grand-facial",
   "metadata": {},
   "outputs": [
    {
     "data": {
      "text/plain": [
       "[('car', 27),\n",
       " ('race', 26),\n",
       " ('game', 24),\n",
       " ('drive', 16),\n",
       " ('real', 12),\n",
       " ('com', 11),\n",
       " ('world', 9),\n",
       " ('custom', 8),\n",
       " ('play', 8),\n",
       " ('mode', 8),\n",
       " ('speed', 7),\n",
       " ('physic', 7),\n",
       " ('get', 7),\n",
       " ('http', 6),\n",
       " ('time', 6)]"
      ]
     },
     "execution_count": 38,
     "metadata": {},
     "output_type": "execute_result"
    }
   ],
   "source": [
    "c1 = Counter(Content)\n",
    "pairs = list(c1.items())\n",
    "pairs_filtered = sorted(pairs, key=lambda x: -x[1])[:15] \n",
    "pairs_filtered"
   ]
  },
  {
   "cell_type": "code",
   "execution_count": null,
   "id": "functioning-clinton",
   "metadata": {},
   "outputs": [],
   "source": []
  }
 ],
 "metadata": {
  "kernelspec": {
   "display_name": "Python 3",
   "language": "python",
   "name": "python3"
  },
  "language_info": {
   "codemirror_mode": {
    "name": "ipython",
    "version": 3
   },
   "file_extension": ".py",
   "mimetype": "text/x-python",
   "name": "python",
   "nbconvert_exporter": "python",
   "pygments_lexer": "ipython3",
   "version": "3.8.0"
  }
 },
 "nbformat": 4,
 "nbformat_minor": 5
}
