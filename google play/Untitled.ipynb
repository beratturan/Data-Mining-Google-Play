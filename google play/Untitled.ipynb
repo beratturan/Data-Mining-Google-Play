{
 "cells": [
  {
   "cell_type": "code",
   "execution_count": 20,
   "id": "julian-lawsuit",
   "metadata": {},
   "outputs": [],
   "source": [
    "import requests\n",
    "from bs4 import BeautifulSoup as bs\n",
    "from urllib.request import urlopen\n"
   ]
  },
  {
   "cell_type": "code",
   "execution_count": 21,
   "id": "growing-replica",
   "metadata": {},
   "outputs": [],
   "source": [
    "web = urlopen('https://play.google.com/store/apps')\n",
    "source = bs(web, 'html.parser')\n",
    "table0 = source.find(class_='LNKfBf').find_all('li')"
   ]
  },
  {
   "cell_type": "code",
   "execution_count": 22,
   "id": "elect-frame",
   "metadata": {},
   "outputs": [],
   "source": [
    "def find_categories(table):\n",
    "    \n",
    "    categories = []\n",
    "    for string in range(len(table)-1):\n",
    "        for word in table0[string+1].strings:\n",
    "            categories.append(word)\n",
    "            \n",
    "    return categories"
   ]
  },
  {
   "cell_type": "code",
   "execution_count": 23,
   "id": "missing-schedule",
   "metadata": {},
   "outputs": [],
   "source": [
    "def find_tag_from_category(table,category):\n",
    "    \n",
    "    for string in range(len(table0)-1):\n",
    "        for word in table0[string+1].strings:\n",
    "            if word == category:\n",
    "                tag = table0[string+1]\n",
    "                \n",
    "    return tag"
   ]
  },
  {
   "cell_type": "code",
   "execution_count": 121,
   "id": "vital-aaron",
   "metadata": {},
   "outputs": [
    {
     "name": "stdout",
     "output_type": "stream",
     "text": [
      "['Art & Design', 'Augmented reality', 'Auto & Vehicles', 'Beauty', 'Books & Reference', 'Business', 'Comics', 'Communication', 'Dating', 'Daydream', 'Education', 'Entertainment', 'Events', 'Finance', 'Food & Drink', 'Health & Fitness', 'House & Home', 'Libraries & Demo', 'Lifestyle', 'Maps & Navigation', 'Medical', 'Music & Audio', 'News & Magazines', 'Parenting', 'Personalization', 'Photography', 'Productivity', 'Shopping', 'Social', 'Sports', 'Tools', 'Travel & Local', 'Video Players & Editors', 'Wear OS by Google', 'Weather', 'Games', 'Action', 'Adventure', 'Arcade', 'Board', 'Card', 'Casino', 'Casual', 'Educational', 'Music', 'Puzzle', 'Racing', 'Role Playing', 'Simulation', 'Sports', 'Strategy', 'Trivia', 'Word', 'Games', 'Action', 'Adventure', 'Arcade', 'Board', 'Card', 'Casino', 'Casual', 'Educational', 'Music', 'Puzzle', 'Racing', 'Role Playing', 'Simulation', 'Sports', 'Strategy', 'Trivia', 'Word', 'Kids', 'Ages up to 5', 'Ages 6-8', 'Ages 9-12', 'Action & Adventure', 'Brain Games', 'Creativity', 'Education', 'Music & Video', 'Pretend Play', 'Kids', 'Ages up to 5', 'Ages 6-8', 'Ages 9-12', 'Action & Adventure', 'Brain Games', 'Creativity', 'Education', 'Music & Video', 'Pretend Play']\n",
      "Select a category : Racing\n"
     ]
    }
   ],
   "source": [
    "categories = find_categories(table0)\n",
    "print(categories)\n",
    "category = input('Select a category : ')\n",
    "newUrl = 'https://play.google.com' + find_tag_from_category(table0, category).a.get('href')"
   ]
  },
  {
   "cell_type": "code",
   "execution_count": 123,
   "id": "infrared-collins",
   "metadata": {},
   "outputs": [
    {
     "data": {
      "text/plain": [
       "'https://play.google.com/store/apps/category/GAME_RACING'"
      ]
     },
     "execution_count": 123,
     "metadata": {},
     "output_type": "execute_result"
    }
   ],
   "source": [
    "newUrl"
   ]
  },
  {
   "cell_type": "code",
   "execution_count": 124,
   "id": "explicit-animation",
   "metadata": {},
   "outputs": [],
   "source": [
    "def find_apps(newUrl):\n",
    "    app_Urls = []\n",
    "    web = urlopen(newUrl)\n",
    "    source = bs(web, 'html.parser')\n",
    "    table = source.find_all(\"div\", {\"class\": \"WHE7ib mpg5gc\"})\n",
    "    for i in range(len(table)):\n",
    "        app_Urls.append('https://play.google.com' + table[i].a.get('href'))\n",
    "        \n",
    "    return app_Urls\n",
    "\n"
   ]
  },
  {
   "cell_type": "code",
   "execution_count": 125,
   "id": "static-tsunami",
   "metadata": {},
   "outputs": [],
   "source": [
    "def get_app_content(app_Url):\n",
    "    \n",
    "    web = urlopen(app_Url)\n",
    "    source = bs(web, 'html.parser')\n",
    "    table = source.find(class_='WpDbMd').find_all('meta')\n",
    "    \n",
    "    for i in range(len(table)):\n",
    "        if(table[i].get('itemprop') == 'price'):\n",
    "            index = i   \n",
    "            \n",
    "    content = table[index+1].get('content')\n",
    "    \n",
    "    return content"
   ]
  },
  {
   "cell_type": "code",
   "execution_count": 128,
   "id": "mechanical-scheme",
   "metadata": {},
   "outputs": [
    {
     "data": {
      "text/plain": [
       "75"
      ]
     },
     "execution_count": 128,
     "metadata": {},
     "output_type": "execute_result"
    }
   ],
   "source": [
    "app_Urls = find_apps(newUrl)\n",
    "len(app_Urls)"
   ]
  },
  {
   "cell_type": "code",
   "execution_count": null,
   "id": "historical-wyoming",
   "metadata": {},
   "outputs": [],
   "source": [
    "app_contents = []\n",
    "for i in range(len(app_Urls)):\n",
    "    app_contents.append(get_app_content(app_Urls[i]))"
   ]
  },
  {
   "cell_type": "code",
   "execution_count": 56,
   "id": "choice-statement",
   "metadata": {},
   "outputs": [
    {
     "name": "stdout",
     "output_type": "stream",
     "text": [
      "{'biri', 'çok', 'sanki', 'ya', 'defa', 'aslında', 'acaba', 'eğer', 'gibi', 'hiç', 'ise', 'için', 'ki', 'ne', 'diye', 'çünkü', 'şey', 'da', 'ile', 'hep', 'niçin', 'biz', 'tüm', 'o', 'daha', 'her', 'ama', 'mu', 'bu', 'hem', 'mı', 'bazı', 'nerede', 'veya', 'siz', 'nasıl', 'birşey', 'yani', 'hepsi', 'az', 'de', 'kim', 've', 'en', 'neden', 'mü', 'belki', 'birkaç', 'nereye', 'niye', 'şu', 'kez', 'nerde'}\n"
     ]
    }
   ],
   "source": [
    "import nltk \n",
    "from nltk.tokenize import RegexpTokenizer\n",
    "from langdetect import detect\n",
    "stopwords = set(nltk.corpus.stopwords.words('english'))"
   ]
  },
  {
   "cell_type": "code",
   "execution_count": 92,
   "id": "capital-luther",
   "metadata": {},
   "outputs": [],
   "source": [
    "contentsArr = []\n",
    "tokenizer = RegexpTokenizer(r'\\w+')\n",
    "for i in range(len(app_contents)):\n",
    "    contentsArr.append(list(tokenizer.tokenize(app_contents[i])))"
   ]
  },
  {
   "cell_type": "code",
   "execution_count": 95,
   "id": "random-berlin",
   "metadata": {},
   "outputs": [],
   "source": [
    "def remove_stopwords(contentsArr):\n",
    "    for i in range(len(contentsArr)):\n",
    "        for word in contentsArr[i]:\n",
    "            if word in stopwords:\n",
    "                contentsArr[i].remove(word) "
   ]
  },
  {
   "cell_type": "code",
   "execution_count": 97,
   "id": "unauthorized-strengthening",
   "metadata": {
    "scrolled": true
   },
   "outputs": [
    {
     "name": "stdout",
     "output_type": "stream",
     "text": [
      "['ibis', 'Paint', 'X', 'popular', 'versatile', 'drawing', 'app', 'downloaded', '100', 'million', 'times', 'total', 'series', '2500', 'materials', '800', 'fonts', 'provides', '381', 'brushes', '71', 'filters', '46', 'screentones', '27', 'blending', 'modes', 'recording', 'drawing', 'processes', 'stroke', 'stabilization', 'feature', 'various', 'ruler', 'features', 'Radial', 'Line', 'rulers', 'Symmetry', 'rulers', 'clipping', 'mask', 'features', 'Youtube', 'channel', 'Many', 'tutorial', 'videos', 'ibis', 'Paint', 'X', 'uploaded', 'YouTube', 'channel', 'Subscribe', 'https', 'www', 'youtube', 'com', 'channel', 'UCo2EevPr79_Ux66GACESAkQ', 'Concept', 'Features', 'A', 'Highly', 'functional', 'professional', 'features', 'surpassing', 'desktop', 'drawing', 'apps', 'Smooth', 'comfortable', 'drawing', 'experience', 'realized', 'OpenGL', 'technology', 'Recording', 'drawing', 'process', 'video', 'SNS', 'feature', 'learn', 'drawing', 'techniques', 'users', 'drawing', 'process', 'videos', 'Features', 'ibis', 'Paint', 'X', 'high', 'functionality', 'drawing', 'app', 'along', 'features', 'sharing', 'drawing', 'processes', 'users', 'Brush', 'Features', 'Smooth', 'drawing', '60', 'fps', '381', 'kinds', 'brushes', 'including', 'dip', 'pens', 'felt', 'tip', 'pens', 'digital', 'pens', 'air', 'brushes', 'fan', 'brushes', 'flat', 'brushes', 'pencils', 'oil', 'brushes', 'charcoal', 'brushes', 'crayons', 'stamps', 'Various', 'brush', 'parameters', 'starting', 'ending', 'thickness', 'starting', 'ending', 'opacity', 'initial', 'final', 'brush', 'angle', 'Quick', 'sliders', 'allow', 'quickly', 'adjust', 'brush', 'thickness', 'opacity', 'Real', 'time', 'brush', 'previews', 'Layer', 'Features', 'You', 'add', 'layers', 'many', 'need', 'limit', 'Layer', 'parameters', 'set', 'layers', 'individually', 'layer', 'opacity', 'alpha', 'blending', 'adding', 'subtracting', 'multiplying', 'In', 'app', 'purchases', 'We', 'provide', 'two', 'ways', 'purchasing', 'ibis', 'Paint', 'X', 'Remove', 'Ads', 'Add', 'one', 'payment', 'Prime', 'Membership', 'monthly', 'payment', 'When', 'become', 'prime', 'member', 'advertisements', 'remove', 'So', 'become', 'prime', 'member', 'cheaper', 'purchase', 'Remove', 'Ads', 'Add', 'If', 'have', 'already', 'purchased', 'Remove', 'Ads', 'Add', 'even', 'cancel', 'Prime', 'Membership', 'advertisements', 'remain', 'removed', 'The', 'people', 'become', 'prime', 'members', 'faster', 'develop', 'application', 'We', 'would', 'like', 'create', 'functions', 'please', 'consider', 'becoming', 'prime', 'member', 'Prime', 'Membership', 'A', 'prime', 'member', 'use', 'prime', 'features', 'You', 'try', 'free', 'one', 'month', 'time', 'first', 'purchase', 'A', 'prime', 'member', 'use', 'following', 'features', 'services', 'Prime', 'Materials', 'Prime', 'Fonts', 'Tone', 'Curve', 'filter', 'Gradation', 'Map', 'filter', 'Clouds', 'filter', 'Reordering', 'artworks', 'My', 'Gallery', 'No', 'advertisements', 'screens', 'except', 'Online', 'Gallery', 'After', 'become', 'prime', 'member', '30', 'days', 'free', 'trial', 'cancel', 'Prime', 'Membership', 'least', '24', 'hours', 'last', 'day', 'free', 'trial', 'Prime', 'Membership', 'automatically', 'renewed', 'charged', 'automatic', 'renewal', 'We', 'add', 'premium', 'features', 'future', 'please', 'look', 'Remove', 'Ads', 'Add', 'Advertisements', 'displayed', 'ibis', 'Paint', 'X', 'If', 'buy', 'Add', 'On', 'one', 'payment', 'advertisements', 'remove', 'Even', 'become', 'prime', 'member', 'advertisements', 'remove', 'So', 'become', 'prime', 'member', 'cheaper', 'purchase', 'Remove', 'Ads', 'Add', 'On', 'Data', 'Collection', 'Only', 'using', 'going', 'use', 'SonarPen', 'the', 'app', 'collects', 'audio', 'signal', 'microphone', 'The', 'collected', 'data', 'used', 'communication', 'SonarPen', 'never', 'saved', 'sent', 'anywhere', 'Questions', 'support', 'Questions', 'bug', 'reports', 'reviews', 'not', 'be', 'responded', 'so', 'please', 'contact', 'ibis', 'Paint', 'X', 'support', 'https', 'ssl', 'ibis', 'ne', 'jp', 'en', 'support', 'Entry', 'svid', '25']\n"
     ]
    }
   ],
   "source": [
    "remove_stopwords(contentsArr)\n",
    "print(contentsArr[0])  "
   ]
  },
  {
   "cell_type": "code",
   "execution_count": 105,
   "id": "mobile-armstrong",
   "metadata": {},
   "outputs": [],
   "source": [
    "from collections import Counter\n",
    "pairsArr = []\n",
    "for i in range(len(contentsArr)):\n",
    "    c = Counter(contentsArr[i])\n",
    "    pairs = list(c.items())\n",
    "    pairs_filtered = sorted(pairs, key=lambda x: -x[1])[:15] \n",
    "    pairsArr.append(pairs_filtered)"
   ]
  },
  {
   "cell_type": "code",
   "execution_count": 113,
   "id": "monthly-diary",
   "metadata": {},
   "outputs": [],
   "source": [
    "Content = []\n",
    "for i in range(len(pairsArr)):\n",
    "    for j in range(15):\n",
    "       Content.append(pairsArr[i][j][0]) "
   ]
  },
  {
   "cell_type": "code",
   "execution_count": 115,
   "id": "grand-facial",
   "metadata": {},
   "outputs": [
    {
     "data": {
      "text/plain": [
       "[('drawing', 4),\n",
       " ('tools', 4),\n",
       " ('draw', 4),\n",
       " ('app', 4),\n",
       " ('brushes', 3),\n",
       " ('painting', 3),\n",
       " ('tool', 3),\n",
       " ('https', 3),\n",
       " ('prime', 2),\n",
       " ('member', 2),\n",
       " ('ibis', 2),\n",
       " ('features', 2),\n",
       " ('Prime', 2),\n",
       " ('Paint', 2),\n",
       " ('X', 2)]"
      ]
     },
     "execution_count": 115,
     "metadata": {},
     "output_type": "execute_result"
    }
   ],
   "source": [
    "c1 = Counter(Content)\n",
    "pairs = list(c1.items())\n",
    "pairs_filtered = sorted(pairs, key=lambda x: -x[1])[:15] \n",
    "pairs_filtered"
   ]
  },
  {
   "cell_type": "code",
   "execution_count": null,
   "id": "functioning-clinton",
   "metadata": {},
   "outputs": [],
   "source": []
  }
 ],
 "metadata": {
  "kernelspec": {
   "display_name": "Python 3",
   "language": "python",
   "name": "python3"
  },
  "language_info": {
   "codemirror_mode": {
    "name": "ipython",
    "version": 3
   },
   "file_extension": ".py",
   "mimetype": "text/x-python",
   "name": "python",
   "nbconvert_exporter": "python",
   "pygments_lexer": "ipython3",
   "version": "3.8.0"
  }
 },
 "nbformat": 4,
 "nbformat_minor": 5
}
