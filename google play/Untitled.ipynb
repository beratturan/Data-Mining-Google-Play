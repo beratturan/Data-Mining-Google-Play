{
 "cells": [
  {
   "cell_type": "code",
   "execution_count": 6,
   "id": "julian-lawsuit",
   "metadata": {},
   "outputs": [],
   "source": [
    "import requests\n",
    "from bs4 import BeautifulSoup as bs\n",
    "from urllib.request import urlopen\n"
   ]
  },
  {
   "cell_type": "code",
   "execution_count": 77,
   "id": "vital-aaron",
   "metadata": {},
   "outputs": [
    {
     "data": {
      "text/plain": [
       "\"\\ntable = source.find(class_='WpDbMd').find_all('meta')\\nfor i in range(len(table)):\\n    if(table[i].get('itemprop') == 'price'):\\n        index = i\\n        \\ncontent = table[index+1].get('content')\\n\""
      ]
     },
     "execution_count": 77,
     "metadata": {},
     "output_type": "execute_result"
    }
   ],
   "source": [
    "web = urlopen('https://play.google.com/store/apps?hl=tr')\n",
    "source = bs(web, 'html.parser')\n",
    "table0 = source.find(class_='LNKfBf',recursive='ul').find_all('li')\n",
    "##category = input('Category : ')\n",
    "\n",
    "\"\"\"\n",
    "table = source.find(class_='WpDbMd').find_all('meta')\n",
    "for i in range(len(table)):\n",
    "    if(table[i].get('itemprop') == 'price'):\n",
    "        index = i\n",
    "        \n",
    "content = table[index+1].get('content')\n",
    "\"\"\"\n"
   ]
  },
  {
   "cell_type": "code",
   "execution_count": 78,
   "id": "infrared-collins",
   "metadata": {},
   "outputs": [
    {
     "data": {
      "text/plain": [
       "[<li class=\"CRHL7b eZdLre\"><ul class=\"TEOqAc\"><li class=\"KZnDLd\"><a class=\"r2Osbf\" href=\"/store/apps/category/SHOPPING\" title=\"Alışveriş\">Alışveriş</a></li><li class=\"KZnDLd\"><a class=\"r2Osbf\" href=\"/store/apps/category/TOOLS\" title=\"Araçlar\">Araçlar</a></li><li class=\"KZnDLd\"><a class=\"r2Osbf\" href=\"/store/apps/category/DATING\" title=\"Arkadaşlık\">Arkadaşlık</a></li><li class=\"KZnDLd\"><a class=\"r2Osbf\" href=\"/store/apps/stream/baselist_featured_arcore\" title=\"Artırılmış gerçeklik\">Artırılmış gerçeklik</a></li><li class=\"KZnDLd\"><a class=\"r2Osbf\" href=\"/store/apps/stream/vr_top_device_featured_category\" title=\"Daydream\">Daydream</a></li><li class=\"KZnDLd\"><a class=\"r2Osbf\" href=\"/store/apps/category/EVENTS\" title=\"Etkinlikler\">Etkinlikler</a></li><li class=\"KZnDLd\"><a class=\"r2Osbf\" href=\"/store/apps/category/HOUSE_AND_HOME\" title=\"Ev\">Ev</a></li><li class=\"KZnDLd\"><a class=\"r2Osbf\" href=\"/store/apps/category/EDUCATION\" title=\"Eğitim\">Eğitim</a></li><li class=\"KZnDLd\"><a class=\"r2Osbf\" href=\"/store/apps/category/ENTERTAINMENT\" title=\"Eğlence\">Eğlence</a></li><li class=\"KZnDLd\"><a class=\"r2Osbf\" href=\"/store/apps/category/FINANCE\" title=\"Finans\">Finans</a></li><li class=\"KZnDLd\"><a class=\"r2Osbf\" href=\"/store/apps/category/PHOTOGRAPHY\" title=\"Fotoğrafçılık\">Fotoğrafçılık</a></li><li class=\"KZnDLd\"><a class=\"r2Osbf\" href=\"/store/apps/category/BEAUTY\" title=\"Güzellik\">Güzellik</a></li><li class=\"KZnDLd\"><a class=\"r2Osbf\" href=\"/store/apps/category/NEWS_AND_MAGAZINES\" title=\"Haberler ve Dergiler\">Haberler ve Dergiler</a></li><li class=\"KZnDLd\"><a class=\"r2Osbf\" href=\"/store/apps/category/COMMUNICATION\" title=\"Haberleşme\">Haberleşme</a></li><li class=\"KZnDLd\"><a class=\"r2Osbf\" href=\"/store/apps/category/MAPS_AND_NAVIGATION\" title=\"Haritalar ve Navigasyon\">Haritalar ve Navigasyon</a></li><li class=\"KZnDLd\"><a class=\"r2Osbf\" href=\"/store/apps/category/WEATHER\" title=\"Hava Durumu\">Hava Durumu</a></li><li class=\"KZnDLd\"><a class=\"r2Osbf\" href=\"/store/apps/category/COMICS\" title=\"Karikatür\">Karikatür</a></li><li class=\"KZnDLd\"><a class=\"r2Osbf\" href=\"/store/apps/category/BOOKS_AND_REFERENCE\" title=\"Kitaplar ve Referans\">Kitaplar ve Referans</a></li><li class=\"KZnDLd\"><a class=\"r2Osbf\" href=\"/store/apps/category/LIBRARIES_AND_DEMO\" title=\"Kitaplıklar ve Kısa Sunum\">Kitaplıklar ve Kısa Sunum</a></li><li class=\"KZnDLd\"><a class=\"r2Osbf\" href=\"/store/apps/category/PERSONALIZATION\" title=\"Kişiselleştirme\">Kişiselleştirme</a></li><li class=\"KZnDLd\"><a class=\"r2Osbf\" href=\"/store/apps/category/MUSIC_AND_AUDIO\" title=\"Müzik ve Ses\">Müzik ve Ses</a></li><li class=\"KZnDLd\"><a class=\"r2Osbf\" href=\"/store/apps/category/AUTO_AND_VEHICLES\" title=\"Otomobil ve Araçlar\">Otomobil ve Araçlar</a></li><li class=\"KZnDLd\"><a class=\"r2Osbf\" href=\"/store/apps/category/ART_AND_DESIGN\" title=\"Sanat ve Tasarım\">Sanat ve Tasarım</a></li><li class=\"KZnDLd\"><a class=\"r2Osbf\" href=\"/store/apps/category/HEALTH_AND_FITNESS\" title=\"Sağlık ve Fitness\">Sağlık ve Fitness</a></li><li class=\"KZnDLd\"><a class=\"r2Osbf\" href=\"/store/apps/category/TRAVEL_AND_LOCAL\" title=\"Seyahat ve Yerel\">Seyahat ve Yerel</a></li><li class=\"KZnDLd\"><a class=\"r2Osbf\" href=\"/store/apps/category/SOCIAL\" title=\"Sosyal\">Sosyal</a></li><li class=\"KZnDLd\"><a class=\"r2Osbf\" href=\"/store/apps/category/SPORTS\" title=\"Spor\">Spor</a></li><li class=\"KZnDLd\"><a class=\"r2Osbf\" href=\"/store/apps/category/MEDICAL\" title=\"Tıp\">Tıp</a></li><li class=\"KZnDLd\"><a class=\"r2Osbf\" href=\"/store/apps/category/PRODUCTIVITY\" title=\"Verimlilik\">Verimlilik</a></li><li class=\"KZnDLd\"><a class=\"r2Osbf\" href=\"/store/apps/category/VIDEO_PLAYERS\" title=\"Video Oynatıcılar ve Düzenleyiciler\">Video Oynatıcılar ve Düzenleyiciler</a></li><li class=\"KZnDLd\"><a class=\"r2Osbf\" href=\"/store/apps/category/ANDROID_WEAR\" title=\"Wear OS by Google\">Wear OS by Google</a></li><li class=\"KZnDLd\"><a class=\"r2Osbf\" href=\"/store/apps/category/LIFESTYLE\" title=\"Yaşam Tarzı\">Yaşam Tarzı</a></li><li class=\"KZnDLd\"><a class=\"r2Osbf\" href=\"/store/apps/category/FOOD_AND_DRINK\" title=\"Yeme İçme\">Yeme İçme</a></li><li class=\"KZnDLd\"><a class=\"r2Osbf\" href=\"/store/apps/category/PARENTING\" title=\"Çocuk Yetiştirme\">Çocuk Yetiştirme</a></li><li class=\"KZnDLd\"><a class=\"r2Osbf\" href=\"/store/apps/category/BUSINESS\" title=\"İş\">İş</a></li></ul></li>,\n",
       " <li class=\"KZnDLd\"><a class=\"r2Osbf\" href=\"/store/apps/category/SHOPPING\" title=\"Alışveriş\">Alışveriş</a></li>,\n",
       " <li class=\"KZnDLd\"><a class=\"r2Osbf\" href=\"/store/apps/category/TOOLS\" title=\"Araçlar\">Araçlar</a></li>,\n",
       " <li class=\"KZnDLd\"><a class=\"r2Osbf\" href=\"/store/apps/category/DATING\" title=\"Arkadaşlık\">Arkadaşlık</a></li>,\n",
       " <li class=\"KZnDLd\"><a class=\"r2Osbf\" href=\"/store/apps/stream/baselist_featured_arcore\" title=\"Artırılmış gerçeklik\">Artırılmış gerçeklik</a></li>,\n",
       " <li class=\"KZnDLd\"><a class=\"r2Osbf\" href=\"/store/apps/stream/vr_top_device_featured_category\" title=\"Daydream\">Daydream</a></li>,\n",
       " <li class=\"KZnDLd\"><a class=\"r2Osbf\" href=\"/store/apps/category/EVENTS\" title=\"Etkinlikler\">Etkinlikler</a></li>,\n",
       " <li class=\"KZnDLd\"><a class=\"r2Osbf\" href=\"/store/apps/category/HOUSE_AND_HOME\" title=\"Ev\">Ev</a></li>,\n",
       " <li class=\"KZnDLd\"><a class=\"r2Osbf\" href=\"/store/apps/category/EDUCATION\" title=\"Eğitim\">Eğitim</a></li>,\n",
       " <li class=\"KZnDLd\"><a class=\"r2Osbf\" href=\"/store/apps/category/ENTERTAINMENT\" title=\"Eğlence\">Eğlence</a></li>,\n",
       " <li class=\"KZnDLd\"><a class=\"r2Osbf\" href=\"/store/apps/category/FINANCE\" title=\"Finans\">Finans</a></li>,\n",
       " <li class=\"KZnDLd\"><a class=\"r2Osbf\" href=\"/store/apps/category/PHOTOGRAPHY\" title=\"Fotoğrafçılık\">Fotoğrafçılık</a></li>,\n",
       " <li class=\"KZnDLd\"><a class=\"r2Osbf\" href=\"/store/apps/category/BEAUTY\" title=\"Güzellik\">Güzellik</a></li>,\n",
       " <li class=\"KZnDLd\"><a class=\"r2Osbf\" href=\"/store/apps/category/NEWS_AND_MAGAZINES\" title=\"Haberler ve Dergiler\">Haberler ve Dergiler</a></li>,\n",
       " <li class=\"KZnDLd\"><a class=\"r2Osbf\" href=\"/store/apps/category/COMMUNICATION\" title=\"Haberleşme\">Haberleşme</a></li>,\n",
       " <li class=\"KZnDLd\"><a class=\"r2Osbf\" href=\"/store/apps/category/MAPS_AND_NAVIGATION\" title=\"Haritalar ve Navigasyon\">Haritalar ve Navigasyon</a></li>,\n",
       " <li class=\"KZnDLd\"><a class=\"r2Osbf\" href=\"/store/apps/category/WEATHER\" title=\"Hava Durumu\">Hava Durumu</a></li>,\n",
       " <li class=\"KZnDLd\"><a class=\"r2Osbf\" href=\"/store/apps/category/COMICS\" title=\"Karikatür\">Karikatür</a></li>,\n",
       " <li class=\"KZnDLd\"><a class=\"r2Osbf\" href=\"/store/apps/category/BOOKS_AND_REFERENCE\" title=\"Kitaplar ve Referans\">Kitaplar ve Referans</a></li>,\n",
       " <li class=\"KZnDLd\"><a class=\"r2Osbf\" href=\"/store/apps/category/LIBRARIES_AND_DEMO\" title=\"Kitaplıklar ve Kısa Sunum\">Kitaplıklar ve Kısa Sunum</a></li>,\n",
       " <li class=\"KZnDLd\"><a class=\"r2Osbf\" href=\"/store/apps/category/PERSONALIZATION\" title=\"Kişiselleştirme\">Kişiselleştirme</a></li>,\n",
       " <li class=\"KZnDLd\"><a class=\"r2Osbf\" href=\"/store/apps/category/MUSIC_AND_AUDIO\" title=\"Müzik ve Ses\">Müzik ve Ses</a></li>,\n",
       " <li class=\"KZnDLd\"><a class=\"r2Osbf\" href=\"/store/apps/category/AUTO_AND_VEHICLES\" title=\"Otomobil ve Araçlar\">Otomobil ve Araçlar</a></li>,\n",
       " <li class=\"KZnDLd\"><a class=\"r2Osbf\" href=\"/store/apps/category/ART_AND_DESIGN\" title=\"Sanat ve Tasarım\">Sanat ve Tasarım</a></li>,\n",
       " <li class=\"KZnDLd\"><a class=\"r2Osbf\" href=\"/store/apps/category/HEALTH_AND_FITNESS\" title=\"Sağlık ve Fitness\">Sağlık ve Fitness</a></li>,\n",
       " <li class=\"KZnDLd\"><a class=\"r2Osbf\" href=\"/store/apps/category/TRAVEL_AND_LOCAL\" title=\"Seyahat ve Yerel\">Seyahat ve Yerel</a></li>,\n",
       " <li class=\"KZnDLd\"><a class=\"r2Osbf\" href=\"/store/apps/category/SOCIAL\" title=\"Sosyal\">Sosyal</a></li>,\n",
       " <li class=\"KZnDLd\"><a class=\"r2Osbf\" href=\"/store/apps/category/SPORTS\" title=\"Spor\">Spor</a></li>,\n",
       " <li class=\"KZnDLd\"><a class=\"r2Osbf\" href=\"/store/apps/category/MEDICAL\" title=\"Tıp\">Tıp</a></li>,\n",
       " <li class=\"KZnDLd\"><a class=\"r2Osbf\" href=\"/store/apps/category/PRODUCTIVITY\" title=\"Verimlilik\">Verimlilik</a></li>,\n",
       " <li class=\"KZnDLd\"><a class=\"r2Osbf\" href=\"/store/apps/category/VIDEO_PLAYERS\" title=\"Video Oynatıcılar ve Düzenleyiciler\">Video Oynatıcılar ve Düzenleyiciler</a></li>,\n",
       " <li class=\"KZnDLd\"><a class=\"r2Osbf\" href=\"/store/apps/category/ANDROID_WEAR\" title=\"Wear OS by Google\">Wear OS by Google</a></li>,\n",
       " <li class=\"KZnDLd\"><a class=\"r2Osbf\" href=\"/store/apps/category/LIFESTYLE\" title=\"Yaşam Tarzı\">Yaşam Tarzı</a></li>,\n",
       " <li class=\"KZnDLd\"><a class=\"r2Osbf\" href=\"/store/apps/category/FOOD_AND_DRINK\" title=\"Yeme İçme\">Yeme İçme</a></li>,\n",
       " <li class=\"KZnDLd\"><a class=\"r2Osbf\" href=\"/store/apps/category/PARENTING\" title=\"Çocuk Yetiştirme\">Çocuk Yetiştirme</a></li>,\n",
       " <li class=\"KZnDLd\"><a class=\"r2Osbf\" href=\"/store/apps/category/BUSINESS\" title=\"İş\">İş</a></li>,\n",
       " <li class=\"CRHL7b eZdLre\"><ul class=\"TEOqAc\"><li class=\"GL7Kod\"><a class=\"zyz7Fb\" href=\"/store/apps/category/GAME\" title=\"Oyunlar\">Oyunlar</a></li><li class=\"YcEAid\"></li><li class=\"KZnDLd\"><a class=\"r2Osbf\" href=\"/store/apps/category/GAME_ACTION\" title=\"Aksiyon\">Aksiyon</a></li><li class=\"KZnDLd\"><a class=\"r2Osbf\" href=\"/store/apps/category/GAME_ARCADE\" title=\"Arcade\">Arcade</a></li><li class=\"KZnDLd\"><a class=\"r2Osbf\" href=\"/store/apps/category/GAME_PUZZLE\" title=\"Bulmaca\">Bulmaca</a></li><li class=\"KZnDLd\"><a class=\"r2Osbf\" href=\"/store/apps/category/GAME_EDUCATIONAL\" title=\"Eğitici\">Eğitici</a></li><li class=\"KZnDLd\"><a class=\"r2Osbf\" href=\"/store/apps/category/GAME_TRIVIA\" title=\"Eğlencelik Bilgi Oyunları\">Eğlencelik Bilgi Oyunları</a></li><li class=\"KZnDLd\"><a class=\"r2Osbf\" href=\"/store/apps/category/GAME_CARD\" title=\"Kağıt\">Kağıt</a></li><li class=\"KZnDLd\"><a class=\"r2Osbf\" href=\"/store/apps/category/GAME_WORD\" title=\"Kelime\">Kelime</a></li><li class=\"KZnDLd\"><a class=\"r2Osbf\" href=\"/store/apps/category/GAME_CASUAL\" title=\"Klasik\">Klasik</a></li><li class=\"KZnDLd\"><a class=\"r2Osbf\" href=\"/store/apps/category/GAME_CASINO\" title=\"Kumarhane Oyunları\">Kumarhane Oyunları</a></li><li class=\"KZnDLd\"><a class=\"r2Osbf\" href=\"/store/apps/category/GAME_ADVENTURE\" title=\"Macera Oyunları\">Macera Oyunları</a></li><li class=\"KZnDLd\"><a class=\"r2Osbf\" href=\"/store/apps/category/GAME_BOARD\" title=\"Masa Oyunları\">Masa Oyunları</a></li><li class=\"KZnDLd\"><a class=\"r2Osbf\" href=\"/store/apps/category/GAME_MUSIC\" title=\"Müzik\">Müzik</a></li><li class=\"KZnDLd\"><a class=\"r2Osbf\" href=\"/store/apps/category/GAME_ROLE_PLAYING\" title=\"Rol Oyunu\">Rol Oyunu</a></li><li class=\"KZnDLd\"><a class=\"r2Osbf\" href=\"/store/apps/category/GAME_SIMULATION\" title=\"Simülasyon\">Simülasyon</a></li><li class=\"KZnDLd\"><a class=\"r2Osbf\" href=\"/store/apps/category/GAME_SPORTS\" title=\"Spor\">Spor</a></li><li class=\"KZnDLd\"><a class=\"r2Osbf\" href=\"/store/apps/category/GAME_STRATEGY\" title=\"Strateji Oyunları\">Strateji Oyunları</a></li><li class=\"KZnDLd\"><a class=\"r2Osbf\" href=\"/store/apps/category/GAME_RACING\" title=\"Yarış\">Yarış</a></li></ul></li>,\n",
       " <li class=\"GL7Kod\"><a class=\"zyz7Fb\" href=\"/store/apps/category/GAME\" title=\"Oyunlar\">Oyunlar</a></li>,\n",
       " <li class=\"YcEAid\"></li>,\n",
       " <li class=\"KZnDLd\"><a class=\"r2Osbf\" href=\"/store/apps/category/GAME_ACTION\" title=\"Aksiyon\">Aksiyon</a></li>,\n",
       " <li class=\"KZnDLd\"><a class=\"r2Osbf\" href=\"/store/apps/category/GAME_ARCADE\" title=\"Arcade\">Arcade</a></li>,\n",
       " <li class=\"KZnDLd\"><a class=\"r2Osbf\" href=\"/store/apps/category/GAME_PUZZLE\" title=\"Bulmaca\">Bulmaca</a></li>,\n",
       " <li class=\"KZnDLd\"><a class=\"r2Osbf\" href=\"/store/apps/category/GAME_EDUCATIONAL\" title=\"Eğitici\">Eğitici</a></li>,\n",
       " <li class=\"KZnDLd\"><a class=\"r2Osbf\" href=\"/store/apps/category/GAME_TRIVIA\" title=\"Eğlencelik Bilgi Oyunları\">Eğlencelik Bilgi Oyunları</a></li>,\n",
       " <li class=\"KZnDLd\"><a class=\"r2Osbf\" href=\"/store/apps/category/GAME_CARD\" title=\"Kağıt\">Kağıt</a></li>,\n",
       " <li class=\"KZnDLd\"><a class=\"r2Osbf\" href=\"/store/apps/category/GAME_WORD\" title=\"Kelime\">Kelime</a></li>,\n",
       " <li class=\"KZnDLd\"><a class=\"r2Osbf\" href=\"/store/apps/category/GAME_CASUAL\" title=\"Klasik\">Klasik</a></li>,\n",
       " <li class=\"KZnDLd\"><a class=\"r2Osbf\" href=\"/store/apps/category/GAME_CASINO\" title=\"Kumarhane Oyunları\">Kumarhane Oyunları</a></li>,\n",
       " <li class=\"KZnDLd\"><a class=\"r2Osbf\" href=\"/store/apps/category/GAME_ADVENTURE\" title=\"Macera Oyunları\">Macera Oyunları</a></li>,\n",
       " <li class=\"KZnDLd\"><a class=\"r2Osbf\" href=\"/store/apps/category/GAME_BOARD\" title=\"Masa Oyunları\">Masa Oyunları</a></li>,\n",
       " <li class=\"KZnDLd\"><a class=\"r2Osbf\" href=\"/store/apps/category/GAME_MUSIC\" title=\"Müzik\">Müzik</a></li>,\n",
       " <li class=\"KZnDLd\"><a class=\"r2Osbf\" href=\"/store/apps/category/GAME_ROLE_PLAYING\" title=\"Rol Oyunu\">Rol Oyunu</a></li>,\n",
       " <li class=\"KZnDLd\"><a class=\"r2Osbf\" href=\"/store/apps/category/GAME_SIMULATION\" title=\"Simülasyon\">Simülasyon</a></li>,\n",
       " <li class=\"KZnDLd\"><a class=\"r2Osbf\" href=\"/store/apps/category/GAME_SPORTS\" title=\"Spor\">Spor</a></li>,\n",
       " <li class=\"KZnDLd\"><a class=\"r2Osbf\" href=\"/store/apps/category/GAME_STRATEGY\" title=\"Strateji Oyunları\">Strateji Oyunları</a></li>,\n",
       " <li class=\"KZnDLd\"><a class=\"r2Osbf\" href=\"/store/apps/category/GAME_RACING\" title=\"Yarış\">Yarış</a></li>,\n",
       " <li class=\"CRHL7b eZdLre\"><ul class=\"TEOqAc\"><li class=\"GL7Kod\"><a class=\"zyz7Fb\" href=\"/store/apps/category/FAMILY\" title=\"Kids\">Kids</a></li><li class=\"YcEAid\"></li><li class=\"KZnDLd\"><a class=\"r2Osbf\" href=\"/store/apps/category/FAMILY?age=AGE_RANGE1\" title=\"5 yaşa kadar\">5 yaşa kadar</a></li><li class=\"KZnDLd\"><a class=\"r2Osbf\" href=\"/store/apps/category/FAMILY?age=AGE_RANGE2\" title=\"6-8 yaş\">6-8 yaş</a></li><li class=\"KZnDLd\"><a class=\"r2Osbf\" href=\"/store/apps/category/FAMILY?age=AGE_RANGE3\" title=\"9-12 Yaş\">9-12 Yaş</a></li><li class=\"KZnDLd\"><a class=\"r2Osbf\" href=\"/store/apps/category/FAMILY_ACTION\" title=\"Aksiyon ve Macera\">Aksiyon ve Macera</a></li><li class=\"KZnDLd\"><a class=\"r2Osbf\" href=\"/store/apps/category/FAMILY_EDUCATION\" title=\"Eğitim\">Eğitim</a></li><li class=\"KZnDLd\"><a class=\"r2Osbf\" href=\"/store/apps/category/FAMILY_CREATE\" title=\"Keşif ve Tasarlama\">Keşif ve Tasarlama</a></li><li class=\"KZnDLd\"><a class=\"r2Osbf\" href=\"/store/apps/category/FAMILY_MUSICVIDEO\" title=\"Müzik ve Video\">Müzik ve Video</a></li><li class=\"KZnDLd\"><a class=\"r2Osbf\" href=\"/store/apps/category/FAMILY_PRETEND\" title=\"Rol Yapma Oyunu\">Rol Yapma Oyunu</a></li><li class=\"KZnDLd\"><a class=\"r2Osbf\" href=\"/store/apps/category/FAMILY_BRAINGAMES\" title=\"Zeka Oyunları\">Zeka Oyunları</a></li></ul></li>,\n",
       " <li class=\"GL7Kod\"><a class=\"zyz7Fb\" href=\"/store/apps/category/FAMILY\" title=\"Kids\">Kids</a></li>,\n",
       " <li class=\"YcEAid\"></li>,\n",
       " <li class=\"KZnDLd\"><a class=\"r2Osbf\" href=\"/store/apps/category/FAMILY?age=AGE_RANGE1\" title=\"5 yaşa kadar\">5 yaşa kadar</a></li>,\n",
       " <li class=\"KZnDLd\"><a class=\"r2Osbf\" href=\"/store/apps/category/FAMILY?age=AGE_RANGE2\" title=\"6-8 yaş\">6-8 yaş</a></li>,\n",
       " <li class=\"KZnDLd\"><a class=\"r2Osbf\" href=\"/store/apps/category/FAMILY?age=AGE_RANGE3\" title=\"9-12 Yaş\">9-12 Yaş</a></li>,\n",
       " <li class=\"KZnDLd\"><a class=\"r2Osbf\" href=\"/store/apps/category/FAMILY_ACTION\" title=\"Aksiyon ve Macera\">Aksiyon ve Macera</a></li>,\n",
       " <li class=\"KZnDLd\"><a class=\"r2Osbf\" href=\"/store/apps/category/FAMILY_EDUCATION\" title=\"Eğitim\">Eğitim</a></li>,\n",
       " <li class=\"KZnDLd\"><a class=\"r2Osbf\" href=\"/store/apps/category/FAMILY_CREATE\" title=\"Keşif ve Tasarlama\">Keşif ve Tasarlama</a></li>,\n",
       " <li class=\"KZnDLd\"><a class=\"r2Osbf\" href=\"/store/apps/category/FAMILY_MUSICVIDEO\" title=\"Müzik ve Video\">Müzik ve Video</a></li>,\n",
       " <li class=\"KZnDLd\"><a class=\"r2Osbf\" href=\"/store/apps/category/FAMILY_PRETEND\" title=\"Rol Yapma Oyunu\">Rol Yapma Oyunu</a></li>,\n",
       " <li class=\"KZnDLd\"><a class=\"r2Osbf\" href=\"/store/apps/category/FAMILY_BRAINGAMES\" title=\"Zeka Oyunları\">Zeka Oyunları</a></li>]"
      ]
     },
     "execution_count": 78,
     "metadata": {},
     "output_type": "execute_result"
    }
   ],
   "source": [
    "table0"
   ]
  },
  {
   "cell_type": "code",
   "execution_count": null,
   "id": "promising-athletics",
   "metadata": {},
   "outputs": [],
   "source": []
  }
 ],
 "metadata": {
  "kernelspec": {
   "display_name": "Python 3",
   "language": "python",
   "name": "python3"
  },
  "language_info": {
   "codemirror_mode": {
    "name": "ipython",
    "version": 3
   },
   "file_extension": ".py",
   "mimetype": "text/x-python",
   "name": "python",
   "nbconvert_exporter": "python",
   "pygments_lexer": "ipython3",
   "version": "3.8.0"
  }
 },
 "nbformat": 4,
 "nbformat_minor": 5
}
